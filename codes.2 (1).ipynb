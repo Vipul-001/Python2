{
 "cells": [
  {
   "cell_type": "code",
   "execution_count": null,
   "id": "8b502fa3-17a2-4e79-abc5-8b3c5294f5d4",
   "metadata": {},
   "outputs": [],
   "source": [
    "!pip install pandas"
   ]
  },
  {
   "cell_type": "code",
   "execution_count": null,
   "id": "05af8bf3-49b4-4be4-99d1-06aa396fe928",
   "metadata": {},
   "outputs": [],
   "source": [
    "import pandas as pd"
   ]
  },
  {
   "cell_type": "code",
   "execution_count": null,
   "id": "453bc501-69a1-4327-8ce1-e4385d6abf1d",
   "metadata": {},
   "outputs": [],
   "source": [
    "pd.set_option(\"display.max_rows\", None)"
   ]
  },
  {
   "cell_type": "code",
   "execution_count": null,
   "id": "0d78b3ea-8cf8-4c7f-9306-b8a9056e9538",
   "metadata": {},
   "outputs": [],
   "source": [
    "print(df)"
   ]
  },
  {
   "cell_type": "code",
   "execution_count": null,
   "id": "2bdcb3cc-08a8-4297-b82c-80a31992c988",
   "metadata": {},
   "outputs": [],
   "source": [
    "new_df = df.dropna()\n",
    "print(new_df.to_string())"
   ]
  },
  {
   "cell_type": "code",
   "execution_count": null,
   "id": "3176417e-0b4d-4480-80dc-64aeea72ba34",
   "metadata": {},
   "outputs": [],
   "source": [
    "df.isnull().sum()"
   ]
  },
  {
   "cell_type": "code",
   "execution_count": null,
   "id": "298bd3fe-9c8c-4c98-92f6-3f42178d601e",
   "metadata": {},
   "outputs": [],
   "source": [
    "pd.read_csv('AirQualityUCI.csv')"
   ]
  },
  {
   "cell_type": "code",
   "execution_count": null,
   "id": "e7c66726-ae49-49c4-a210-d107bd61535e",
   "metadata": {},
   "outputs": [],
   "source": [
    "df1 = pd.read_csv('AirQualityUCI.csv')"
   ]
  },
  {
   "cell_type": "code",
   "execution_count": null,
   "id": "a288207a-3a7f-409a-b83f-2927db082071",
   "metadata": {},
   "outputs": [],
   "source": [
    "df1"
   ]
  },
  {
   "cell_type": "code",
   "execution_count": null,
   "id": "1f64dedc-33d8-484e-857f-7df8f521be37",
   "metadata": {},
   "outputs": [],
   "source": [
    "df_1_new=df1.drop(columns=['Unnamed: 15', 'Unnamed: 16','Date','Time'],axis='columns')"
   ]
  },
  {
   "cell_type": "code",
   "execution_count": null,
   "id": "b578ad52-2d83-4d94-8736-0010ee299ac9",
   "metadata": {},
   "outputs": [],
   "source": [
    "df_1_new.dropna()"
   ]
  },
  {
   "cell_type": "code",
   "execution_count": null,
   "id": "7a5552dd-8735-4b4d-895a-937fc4bd09aa",
   "metadata": {},
   "outputs": [],
   "source": [
    "df_1_new.corr()"
   ]
  },
  {
   "cell_type": "code",
   "execution_count": null,
   "id": "2eb8526c-f810-4211-a332-d633e2592717",
   "metadata": {},
   "outputs": [],
   "source": [
    "df_1_new.plot()"
   ]
  }
 ],
 "metadata": {
  "kernelspec": {
   "display_name": "Python 3 (ipykernel)",
   "language": "python",
   "name": "python3"
  },
  "language_info": {
   "codemirror_mode": {
    "name": "ipython",
    "version": 3
   },
   "file_extension": ".py",
   "mimetype": "text/x-python",
   "name": "python",
   "nbconvert_exporter": "python",
   "pygments_lexer": "ipython3",
   "version": "3.12.4"
  }
 },
 "nbformat": 4,
 "nbformat_minor": 5
}
